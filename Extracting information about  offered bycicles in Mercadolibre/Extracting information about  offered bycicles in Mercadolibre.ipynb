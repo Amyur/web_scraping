{
 "cells": [
  {
   "cell_type": "markdown",
   "metadata": {},
   "source": [
    "#### First we import the packages"
   ]
  },
  {
   "cell_type": "code",
   "execution_count": 21,
   "metadata": {
    "scrolled": true
   },
   "outputs": [],
   "source": [
    "import bs4\n",
    "import requests\n",
    "import pandas as pd"
   ]
  },
  {
   "cell_type": "markdown",
   "metadata": {},
   "source": [
    "#### Then we generate a request to extract the information from the first 39 pages of bycicles."
   ]
  },
  {
   "cell_type": "code",
   "execution_count": 22,
   "metadata": {
    "scrolled": true
   },
   "outputs": [],
   "source": [
    "responses = []\n",
    "for i in range(51, 1952, 50):\n",
    "    response = requests.get(\"https://deportes.mercadolibre.com.co/bicicletas-ciclismo/bicicletas/_Desde_{}\".format(i))\n",
    "    responses.append(response)"
   ]
  },
  {
   "cell_type": "code",
   "execution_count": 23,
   "metadata": {
    "scrolled": true
   },
   "outputs": [
    {
     "data": {
      "text/plain": [
       "39"
      ]
     },
     "execution_count": 23,
     "metadata": {},
     "output_type": "execute_result"
    }
   ],
   "source": [
    "len(responses)"
   ]
  },
  {
   "cell_type": "markdown",
   "metadata": {},
   "source": [
    "#### Now it's important to be sure that the information has been successfully loaded. The number \"200\" means that all is going good."
   ]
  },
  {
   "cell_type": "code",
   "execution_count": 24,
   "metadata": {
    "scrolled": true
   },
   "outputs": [
    {
     "name": "stdout",
     "output_type": "stream",
     "text": [
      "200\n",
      "200\n",
      "200\n",
      "200\n",
      "200\n",
      "200\n",
      "200\n",
      "200\n",
      "200\n",
      "200\n",
      "200\n",
      "200\n",
      "200\n",
      "200\n",
      "200\n",
      "200\n",
      "200\n",
      "200\n",
      "200\n",
      "200\n",
      "200\n",
      "200\n",
      "200\n",
      "200\n",
      "200\n",
      "200\n",
      "200\n",
      "200\n",
      "200\n",
      "200\n",
      "200\n",
      "200\n",
      "200\n",
      "200\n",
      "200\n",
      "200\n",
      "200\n",
      "200\n",
      "200\n"
     ]
    }
   ],
   "source": [
    "for i in range(len(responses)):\n",
    "    print(responses[i].status_code)"
   ]
  },
  {
   "cell_type": "markdown",
   "metadata": {},
   "source": [
    "#### Now we extract structured information from the html file to be analized later."
   ]
  },
  {
   "cell_type": "code",
   "execution_count": 25,
   "metadata": {
    "scrolled": true
   },
   "outputs": [],
   "source": [
    "soups = []\n",
    "for i in range(len(responses)):\n",
    "    soup = bs4.BeautifulSoup(responses[i].text, \"html.parser\")\n",
    "    soups.append(soup)"
   ]
  },
  {
   "cell_type": "code",
   "execution_count": 26,
   "metadata": {
    "scrolled": true
   },
   "outputs": [
    {
     "data": {
      "text/plain": [
       "39"
      ]
     },
     "execution_count": 26,
     "metadata": {},
     "output_type": "execute_result"
    }
   ],
   "source": [
    "len(soups)"
   ]
  },
  {
   "cell_type": "markdown",
   "metadata": {},
   "source": [
    "#### Now we begin extracting the title of every bycicle offered."
   ]
  },
  {
   "cell_type": "code",
   "execution_count": 27,
   "metadata": {
    "scrolled": true
   },
   "outputs": [],
   "source": [
    "titles_tog = []\n",
    "for i in range(len(soups)):\n",
    "    titles = soups[i].select(\"h2 a span.main-title\")[:]\n",
    "    for title in titles:\n",
    "        titles_tog.append(title.string)"
   ]
  },
  {
   "cell_type": "code",
   "execution_count": 28,
   "metadata": {
    "scrolled": true
   },
   "outputs": [
    {
     "data": {
      "text/plain": [
       "1988"
      ]
     },
     "execution_count": 28,
     "metadata": {},
     "output_type": "execute_result"
    }
   ],
   "source": [
    "len(titles_tog)"
   ]
  },
  {
   "cell_type": "code",
   "execution_count": 29,
   "metadata": {
    "scrolled": true
   },
   "outputs": [
    {
     "data": {
      "text/plain": [
       "[' Bicicleta Roadmaster Storm 29 Shimano + Luces + Maletin ',\n",
       " ' Bicicletas Gw Hyena 29 Shimano Integrados 21vel + Obsequio ',\n",
       " ' Bicicleta Gw Piranha 29 Grupo Shimano Altus 9 V Hidráulico ',\n",
       " ' Bicicleta Ruta Gw K2 Modelo 2020 Aluminio 14vel + Obsequio ',\n",
       " ' Bicicletas Gw Hyena Shimano Rin 29 Integradas 21 Vel ',\n",
       " ' Marco Ruta Carbono Cuadro Cipollini Bicicletas De Ruta ',\n",
       " ' Bicicleta Niños Rin 16 Canasta Pito Frenos ',\n",
       " ' Bicicleta Todoterreno Aluminio Shimano Susp. Hidraulica + Ob ',\n",
       " ' Bicicleta Mtb Todoterreno 18 Cambios Rin 26 Colores ']"
      ]
     },
     "execution_count": 29,
     "metadata": {},
     "output_type": "execute_result"
    }
   ],
   "source": [
    "titles_tog[1:10]"
   ]
  },
  {
   "cell_type": "markdown",
   "metadata": {},
   "source": [
    "#### Then we extract the prices"
   ]
  },
  {
   "cell_type": "code",
   "execution_count": 30,
   "metadata": {
    "scrolled": true
   },
   "outputs": [],
   "source": [
    "prices_tog = []\n",
    "for i in range(len(soups)):\n",
    "    prices = soups[i].select(\"div span.price__fraction\")[:]\n",
    "    for price in prices:\n",
    "        if price.string == \" \":\n",
    "            prices_tog.append(\"NA\")\n",
    "        else:\n",
    "            prices_tog.append(price.string)"
   ]
  },
  {
   "cell_type": "code",
   "execution_count": 31,
   "metadata": {
    "scrolled": true
   },
   "outputs": [
    {
     "data": {
      "text/plain": [
       "1988"
      ]
     },
     "execution_count": 31,
     "metadata": {},
     "output_type": "execute_result"
    }
   ],
   "source": [
    "len(prices_tog)"
   ]
  },
  {
   "cell_type": "code",
   "execution_count": 32,
   "metadata": {
    "scrolled": true
   },
   "outputs": [
    {
     "data": {
      "text/plain": [
       "['599.900',\n",
       " '659.900',\n",
       " '1.499.990',\n",
       " '999.900',\n",
       " '749.990',\n",
       " '2.600.000',\n",
       " '220.900',\n",
       " '539.900',\n",
       " '240.000']"
      ]
     },
     "execution_count": 32,
     "metadata": {},
     "output_type": "execute_result"
    }
   ],
   "source": [
    "prices_tog[1:10]"
   ]
  },
  {
   "cell_type": "markdown",
   "metadata": {},
   "source": [
    "#### We create a DataFrame with those lists."
   ]
  },
  {
   "cell_type": "code",
   "execution_count": 33,
   "metadata": {
    "scrolled": true
   },
   "outputs": [],
   "source": [
    "data = pd.DataFrame({\"Titles\":titles_tog,\n",
    "                    \"Prices\":prices_tog})"
   ]
  },
  {
   "cell_type": "code",
   "execution_count": 34,
   "metadata": {
    "scrolled": true
   },
   "outputs": [
    {
     "data": {
      "text/html": [
       "<div>\n",
       "<style scoped>\n",
       "    .dataframe tbody tr th:only-of-type {\n",
       "        vertical-align: middle;\n",
       "    }\n",
       "\n",
       "    .dataframe tbody tr th {\n",
       "        vertical-align: top;\n",
       "    }\n",
       "\n",
       "    .dataframe thead th {\n",
       "        text-align: right;\n",
       "    }\n",
       "</style>\n",
       "<table border=\"1\" class=\"dataframe\">\n",
       "  <thead>\n",
       "    <tr style=\"text-align: right;\">\n",
       "      <th></th>\n",
       "      <th>Prices</th>\n",
       "      <th>Titles</th>\n",
       "    </tr>\n",
       "  </thead>\n",
       "  <tbody>\n",
       "    <tr>\n",
       "      <th>1</th>\n",
       "      <td>599.900</td>\n",
       "      <td>Bicicleta Roadmaster Storm 29 Shimano + Luces...</td>\n",
       "    </tr>\n",
       "    <tr>\n",
       "      <th>2</th>\n",
       "      <td>659.900</td>\n",
       "      <td>Bicicletas Gw Hyena 29 Shimano Integrados 21v...</td>\n",
       "    </tr>\n",
       "    <tr>\n",
       "      <th>3</th>\n",
       "      <td>1.499.990</td>\n",
       "      <td>Bicicleta Gw Piranha 29 Grupo Shimano Altus 9...</td>\n",
       "    </tr>\n",
       "    <tr>\n",
       "      <th>4</th>\n",
       "      <td>999.900</td>\n",
       "      <td>Bicicleta Ruta Gw K2 Modelo 2020 Aluminio 14v...</td>\n",
       "    </tr>\n",
       "    <tr>\n",
       "      <th>5</th>\n",
       "      <td>749.990</td>\n",
       "      <td>Bicicletas Gw Hyena Shimano Rin 29 Integradas...</td>\n",
       "    </tr>\n",
       "    <tr>\n",
       "      <th>6</th>\n",
       "      <td>2.600.000</td>\n",
       "      <td>Marco Ruta Carbono Cuadro Cipollini Bicicleta...</td>\n",
       "    </tr>\n",
       "    <tr>\n",
       "      <th>7</th>\n",
       "      <td>220.900</td>\n",
       "      <td>Bicicleta Niños Rin 16 Canasta Pito Frenos</td>\n",
       "    </tr>\n",
       "    <tr>\n",
       "      <th>8</th>\n",
       "      <td>539.900</td>\n",
       "      <td>Bicicleta Todoterreno Aluminio Shimano Susp. ...</td>\n",
       "    </tr>\n",
       "    <tr>\n",
       "      <th>9</th>\n",
       "      <td>240.000</td>\n",
       "      <td>Bicicleta Mtb Todoterreno 18 Cambios Rin 26 C...</td>\n",
       "    </tr>\n",
       "  </tbody>\n",
       "</table>\n",
       "</div>"
      ],
      "text/plain": [
       "      Prices                                             Titles\n",
       "1    599.900   Bicicleta Roadmaster Storm 29 Shimano + Luces...\n",
       "2    659.900   Bicicletas Gw Hyena 29 Shimano Integrados 21v...\n",
       "3  1.499.990   Bicicleta Gw Piranha 29 Grupo Shimano Altus 9...\n",
       "4    999.900   Bicicleta Ruta Gw K2 Modelo 2020 Aluminio 14v...\n",
       "5    749.990   Bicicletas Gw Hyena Shimano Rin 29 Integradas...\n",
       "6  2.600.000   Marco Ruta Carbono Cuadro Cipollini Bicicleta...\n",
       "7    220.900        Bicicleta Niños Rin 16 Canasta Pito Frenos \n",
       "8    539.900   Bicicleta Todoterreno Aluminio Shimano Susp. ...\n",
       "9    240.000   Bicicleta Mtb Todoterreno 18 Cambios Rin 26 C..."
      ]
     },
     "execution_count": 34,
     "metadata": {},
     "output_type": "execute_result"
    }
   ],
   "source": [
    "data[1:10]"
   ]
  },
  {
   "cell_type": "markdown",
   "metadata": {},
   "source": [
    "#### From the title we extract the first string that usually is the name of the item that is offered."
   ]
  },
  {
   "cell_type": "code",
   "execution_count": 35,
   "metadata": {
    "scrolled": true
   },
   "outputs": [],
   "source": [
    "data[\"Name\"] = data[\"Titles\"].apply(lambda name: name.split(\" \")[1])"
   ]
  },
  {
   "cell_type": "code",
   "execution_count": 36,
   "metadata": {
    "scrolled": true
   },
   "outputs": [],
   "source": [
    "data[\"N_titles\"] = (data[\"Titles\"].apply(lambda name: name.split(\" \")[2:])\n",
    "                                 .map(lambda names: ' '.join(names)))"
   ]
  },
  {
   "cell_type": "code",
   "execution_count": 37,
   "metadata": {
    "scrolled": true
   },
   "outputs": [
    {
     "data": {
      "text/html": [
       "<div>\n",
       "<style scoped>\n",
       "    .dataframe tbody tr th:only-of-type {\n",
       "        vertical-align: middle;\n",
       "    }\n",
       "\n",
       "    .dataframe tbody tr th {\n",
       "        vertical-align: top;\n",
       "    }\n",
       "\n",
       "    .dataframe thead th {\n",
       "        text-align: right;\n",
       "    }\n",
       "</style>\n",
       "<table border=\"1\" class=\"dataframe\">\n",
       "  <thead>\n",
       "    <tr style=\"text-align: right;\">\n",
       "      <th></th>\n",
       "      <th>Prices</th>\n",
       "      <th>Name</th>\n",
       "      <th>N_titles</th>\n",
       "    </tr>\n",
       "  </thead>\n",
       "  <tbody>\n",
       "    <tr>\n",
       "      <th>1</th>\n",
       "      <td>599.900</td>\n",
       "      <td>Bicicleta</td>\n",
       "      <td>Roadmaster Storm 29 Shimano + Luces + Maletin</td>\n",
       "    </tr>\n",
       "    <tr>\n",
       "      <th>2</th>\n",
       "      <td>659.900</td>\n",
       "      <td>Bicicletas</td>\n",
       "      <td>Gw Hyena 29 Shimano Integrados 21vel + Obsequio</td>\n",
       "    </tr>\n",
       "    <tr>\n",
       "      <th>3</th>\n",
       "      <td>1.499.990</td>\n",
       "      <td>Bicicleta</td>\n",
       "      <td>Gw Piranha 29 Grupo Shimano Altus 9 V Hidráulico</td>\n",
       "    </tr>\n",
       "    <tr>\n",
       "      <th>4</th>\n",
       "      <td>999.900</td>\n",
       "      <td>Bicicleta</td>\n",
       "      <td>Ruta Gw K2 Modelo 2020 Aluminio 14vel + Obsequio</td>\n",
       "    </tr>\n",
       "  </tbody>\n",
       "</table>\n",
       "</div>"
      ],
      "text/plain": [
       "      Prices        Name                                           N_titles\n",
       "1    599.900   Bicicleta     Roadmaster Storm 29 Shimano + Luces + Maletin \n",
       "2    659.900  Bicicletas   Gw Hyena 29 Shimano Integrados 21vel + Obsequio \n",
       "3  1.499.990   Bicicleta  Gw Piranha 29 Grupo Shimano Altus 9 V Hidráulico \n",
       "4    999.900   Bicicleta  Ruta Gw K2 Modelo 2020 Aluminio 14vel + Obsequio "
      ]
     },
     "execution_count": 37,
     "metadata": {},
     "output_type": "execute_result"
    }
   ],
   "source": [
    "data[[\"Prices\", \"Name\", \"N_titles\"]][1:5]"
   ]
  },
  {
   "cell_type": "markdown",
   "metadata": {},
   "source": [
    "#### Now we remove the \".\" that is in the price in order to ease the later calculations we want to do with that."
   ]
  },
  {
   "cell_type": "code",
   "execution_count": 38,
   "metadata": {
    "scrolled": true
   },
   "outputs": [],
   "source": [
    "data[\"N_prices\"] = data[\"Prices\"].apply(lambda price: price.split(\".\")).map(lambda prices: ''.join(prices))"
   ]
  },
  {
   "cell_type": "code",
   "execution_count": 39,
   "metadata": {
    "scrolled": true
   },
   "outputs": [
    {
     "data": {
      "text/plain": [
       "1     599900\n",
       "2     659900\n",
       "3    1499990\n",
       "4     999900\n",
       "Name: N_prices, dtype: object"
      ]
     },
     "execution_count": 39,
     "metadata": {},
     "output_type": "execute_result"
    }
   ],
   "source": [
    "data[\"N_prices\"][1:5]"
   ]
  },
  {
   "cell_type": "code",
   "execution_count": 40,
   "metadata": {
    "scrolled": true
   },
   "outputs": [
    {
     "data": {
      "text/html": [
       "<div>\n",
       "<style scoped>\n",
       "    .dataframe tbody tr th:only-of-type {\n",
       "        vertical-align: middle;\n",
       "    }\n",
       "\n",
       "    .dataframe tbody tr th {\n",
       "        vertical-align: top;\n",
       "    }\n",
       "\n",
       "    .dataframe thead th {\n",
       "        text-align: right;\n",
       "    }\n",
       "</style>\n",
       "<table border=\"1\" class=\"dataframe\">\n",
       "  <thead>\n",
       "    <tr style=\"text-align: right;\">\n",
       "      <th></th>\n",
       "      <th>N_prices</th>\n",
       "      <th>Name</th>\n",
       "      <th>N_titles</th>\n",
       "    </tr>\n",
       "  </thead>\n",
       "  <tbody>\n",
       "    <tr>\n",
       "      <th>1</th>\n",
       "      <td>599900</td>\n",
       "      <td>Bicicleta</td>\n",
       "      <td>Roadmaster Storm 29 Shimano + Luces + Maletin</td>\n",
       "    </tr>\n",
       "    <tr>\n",
       "      <th>2</th>\n",
       "      <td>659900</td>\n",
       "      <td>Bicicletas</td>\n",
       "      <td>Gw Hyena 29 Shimano Integrados 21vel + Obsequio</td>\n",
       "    </tr>\n",
       "    <tr>\n",
       "      <th>3</th>\n",
       "      <td>1499990</td>\n",
       "      <td>Bicicleta</td>\n",
       "      <td>Gw Piranha 29 Grupo Shimano Altus 9 V Hidráulico</td>\n",
       "    </tr>\n",
       "    <tr>\n",
       "      <th>4</th>\n",
       "      <td>999900</td>\n",
       "      <td>Bicicleta</td>\n",
       "      <td>Ruta Gw K2 Modelo 2020 Aluminio 14vel + Obsequio</td>\n",
       "    </tr>\n",
       "  </tbody>\n",
       "</table>\n",
       "</div>"
      ],
      "text/plain": [
       "  N_prices        Name                                           N_titles\n",
       "1   599900   Bicicleta     Roadmaster Storm 29 Shimano + Luces + Maletin \n",
       "2   659900  Bicicletas   Gw Hyena 29 Shimano Integrados 21vel + Obsequio \n",
       "3  1499990   Bicicleta  Gw Piranha 29 Grupo Shimano Altus 9 V Hidráulico \n",
       "4   999900   Bicicleta  Ruta Gw K2 Modelo 2020 Aluminio 14vel + Obsequio "
      ]
     },
     "execution_count": 40,
     "metadata": {},
     "output_type": "execute_result"
    }
   ],
   "source": [
    "data[[\"N_prices\", \"Name\", \"N_titles\"]][1:5]"
   ]
  },
  {
   "cell_type": "code",
   "execution_count": null,
   "metadata": {
    "scrolled": true
   },
   "outputs": [],
   "source": []
  }
 ],
 "metadata": {
  "kernelspec": {
   "display_name": "Python 3",
   "language": "python",
   "name": "python3"
  },
  "language_info": {
   "codemirror_mode": {
    "name": "ipython",
    "version": 3
   },
   "file_extension": ".py",
   "mimetype": "text/x-python",
   "name": "python",
   "nbconvert_exporter": "python",
   "pygments_lexer": "ipython3",
   "version": "3.6.4"
  }
 },
 "nbformat": 4,
 "nbformat_minor": 2
}
